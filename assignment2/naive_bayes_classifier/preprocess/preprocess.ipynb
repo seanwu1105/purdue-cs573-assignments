{
 "cells": [
  {
   "cell_type": "code",
   "execution_count": 29,
   "source": [
    "from IPython.display import display, HTML\n",
    "import pandas as pd\n",
    "\n",
    "df = pd.read_csv('dating-full.csv')"
   ],
   "outputs": [],
   "metadata": {}
  },
  {
   "cell_type": "code",
   "execution_count": 30,
   "source": [
    "count = 0\n",
    "\n",
    "def strip_quotes(s: str) -> str:\n",
    "    global count\n",
    "    is_modified = False\n",
    "    if s[0] == '\"' or s[0] == \"'\":\n",
    "        s = s[1:]\n",
    "        is_modified = True\n",
    "    if s[-1] == '\"' or s[-1] == \"'\":\n",
    "        s = s[:-1]\n",
    "        is_modified = True\n",
    "    if is_modified:\n",
    "        count += 1\n",
    "    return s\n",
    "\n",
    "\n",
    "cols_need_striped = ('race', 'race_o', 'field')\n",
    "for col in cols_need_striped:\n",
    "    df[col] = df[col].map(strip_quotes)\n",
    "\n",
    "print(f'Quotes removed from {count} cells.')"
   ],
   "outputs": [
    {
     "output_type": "stream",
     "name": "stdout",
     "text": [
      "Quotes removed from 8316 cells.\n"
     ]
    }
   ],
   "metadata": {}
  },
  {
   "cell_type": "code",
   "execution_count": 31,
   "source": [
    "count = 0\n",
    "\n",
    "def lowercase(s: str) -> str:\n",
    "    global count\n",
    "    original = s\n",
    "    s = s.lower()\n",
    "    if s != original:\n",
    "        count += 1\n",
    "    return s\n",
    "\n",
    "cols_need_lowercased = ('field',)\n",
    "for col in cols_need_lowercased:\n",
    "    df[col] = df[col].map(lowercase)\n",
    "\n",
    "print(f'Standardized {count} cells to lower case.')"
   ],
   "outputs": [
    {
     "output_type": "stream",
     "name": "stdout",
     "text": [
      "Standardized 5707 cells to lower case.\n"
     ]
    }
   ],
   "metadata": {}
  },
  {
   "cell_type": "code",
   "execution_count": 32,
   "source": [
    "def compile_encoding(series: pd.Series) -> dict:\n",
    "    return {v: i for i, v in enumerate(sorted(set(series)))}\n",
    "\n",
    "encodings = {}\n",
    "\n",
    "cols_need_encoded = ('gender', 'race', 'race_o', 'field')\n",
    "for col in cols_need_encoded:\n",
    "    encodings[col] = compile_encoding(df[col])\n",
    "    df[col] = df[col].map(encodings[col])\n",
    "\n",
    "def print_encoding(col: str, label: str):\n",
    "    print(f'Value assigned for {label} in column {col}: {encodings[col][label]}')\n",
    "\n",
    "print_encoding('gender', 'male')\n",
    "print_encoding('race', 'European/Caucasian-American')\n",
    "print_encoding('race_o', 'Latino/Hispanic American')\n",
    "print_encoding('field', 'law')"
   ],
   "outputs": [
    {
     "output_type": "stream",
     "name": "stdout",
     "text": [
      "Value assigned for male in column gender: 1\n",
      "Value assigned for European/Caucasian-American in column race: 2\n",
      "Value assigned for Latino/Hispanic American in column race_o: 3\n",
      "Value assigned for law in column field: 121\n"
     ]
    }
   ],
   "metadata": {}
  },
  {
   "cell_type": "code",
   "execution_count": 33,
   "source": [
    "preference_scores_of_participant = (['attractive_important', 'sincere_important', 'intelligence_important',\n",
    "'funny_important', 'ambition_important', 'shared_interests_important'])\n",
    "\n",
    "preference_scores_of_partner = (['pref_o_attractive', 'pref_o_sincere', 'pref_o_intelligence', 'pref_o_funny',\n",
    "'pref_o_ambitious', 'pref_o_shared_interests'])\n",
    "\n",
    "def normalize_preference_scores(series: pd.Series) -> pd.Series:\n",
    "    total_participant_score = sum(series[col] for col in preference_scores_of_participant)\n",
    "    for col in preference_scores_of_participant:\n",
    "        series[col] = series[col] / total_participant_score\n",
    "\n",
    "    total_partner_score = sum(series[col] for col in preference_scores_of_partner)\n",
    "    for col in preference_scores_of_partner:\n",
    "        series[col] = series[col] / total_partner_score\n",
    "    return series\n",
    "\n",
    "df = df.apply(normalize_preference_scores, axis=1)\n",
    "\n",
    "def print_mean(col: str):\n",
    "    print(f'Mean of column {col}: {df[col].mean(): .2f}')\n",
    "\n",
    "for col in preference_scores_of_participant:\n",
    "    print_mean(col)\n",
    "for col in preference_scores_of_partner:\n",
    "    print_mean(col)"
   ],
   "outputs": [
    {
     "output_type": "stream",
     "name": "stdout",
     "text": [
      "Mean of column attractive_important:  0.22\n",
      "Mean of column sincere_important:  0.17\n",
      "Mean of column intelligence_important:  0.20\n",
      "Mean of column funny_important:  0.17\n",
      "Mean of column ambition_important:  0.11\n",
      "Mean of column shared_interests_important:  0.12\n",
      "Mean of column pref_o_attractive:  0.22\n",
      "Mean of column pref_o_sincere:  0.17\n",
      "Mean of column pref_o_intelligence:  0.20\n",
      "Mean of column pref_o_funny:  0.17\n",
      "Mean of column pref_o_ambitious:  0.11\n",
      "Mean of column pref_o_shared_interests:  0.12\n"
     ]
    }
   ],
   "metadata": {}
  }
 ],
 "metadata": {
  "orig_nbformat": 4,
  "language_info": {
   "name": "python",
   "version": "3.9.5",
   "mimetype": "text/x-python",
   "codemirror_mode": {
    "name": "ipython",
    "version": 3
   },
   "pygments_lexer": "ipython3",
   "nbconvert_exporter": "python",
   "file_extension": ".py"
  },
  "kernelspec": {
   "name": "python3",
   "display_name": "Python 3.9.5 64-bit ('.venv': poetry)"
  },
  "interpreter": {
   "hash": "8725c70b35e7a08bf53ea3a30865c74573bca99c2511221dcaf6bbbd0179c29e"
  }
 },
 "nbformat": 4,
 "nbformat_minor": 2
}