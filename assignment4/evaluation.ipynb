{
 "cells": [
  {
   "cell_type": "markdown",
   "metadata": {},
   "source": [
    "# CS 57300 Data Mining Assignment 4\n",
    "\n",
    "Shuang Wu (wu1716@purdue.edu)\n",
    "\n",
    "## Environment\n",
    "\n",
    "See README.md. Generally, the Python we use with Poetry is ~3.9 for better type\n",
    "hinting.\n"
   ]
  },
  {
   "cell_type": "code",
   "execution_count": 1,
   "metadata": {},
   "outputs": [],
   "source": [
    "TEST_SET = 'testSet.csv'\n",
    "TRAINING_SET = 'trainingSet.csv'\n",
    "MODE_DT = 1\n",
    "MODE_BT = 2\n",
    "MODE_RF = 3\n"
   ]
  },
  {
   "cell_type": "markdown",
   "metadata": {},
   "source": [
    "## Preprocessing"
   ]
  },
  {
   "cell_type": "code",
   "execution_count": 2,
   "metadata": {},
   "outputs": [],
   "source": [
    "%run -i preprocess-assg4.py"
   ]
  },
  {
   "cell_type": "markdown",
   "metadata": {},
   "source": [
    "## Implement  Decision  Trees,  Bagging  and  Random  Forests"
   ]
  },
  {
   "cell_type": "code",
   "execution_count": 3,
   "metadata": {},
   "outputs": [
    {
     "name": "stdout",
     "output_type": "stream",
     "text": [
      "Training Accuracy DT: 0.77\n",
      "Testing Accuracy DT: 0.71\n"
     ]
    }
   ],
   "source": [
    "%run -i trees.py {TRAINING_SET} {TEST_SET} {MODE_DT}"
   ]
  },
  {
   "cell_type": "code",
   "execution_count": 4,
   "metadata": {},
   "outputs": [
    {
     "name": "stdout",
     "output_type": "stream",
     "text": [
      "Training Accuracy BT: 0.79\n",
      "Testing Accuracy BT: 0.73\n"
     ]
    }
   ],
   "source": [
    "%run -i trees.py {TRAINING_SET} {TEST_SET} {MODE_BT}"
   ]
  },
  {
   "cell_type": "code",
   "execution_count": 6,
   "metadata": {},
   "outputs": [
    {
     "name": "stdout",
     "output_type": "stream",
     "text": [
      "Training Accuracy RF: 0.78\n",
      "Testing Accuracy RF: 0.74\n"
     ]
    }
   ],
   "source": [
    "%run -i trees.py {TRAINING_SET} {TEST_SET} {MODE_RF}"
   ]
  }
 ],
 "metadata": {
  "interpreter": {
   "hash": "a77d47d89f8aaafbeb0155996eecde8831fb0203971b72cd986ebd2e08b863ba"
  },
  "kernelspec": {
   "display_name": "Python 3.9.5 64-bit ('.venv': poetry)",
   "language": "python",
   "name": "python3"
  },
  "language_info": {
   "codemirror_mode": {
    "name": "ipython",
    "version": 3
   },
   "file_extension": ".py",
   "mimetype": "text/x-python",
   "name": "python",
   "nbconvert_exporter": "python",
   "pygments_lexer": "ipython3",
   "version": "3.9.5"
  },
  "orig_nbformat": 4
 },
 "nbformat": 4,
 "nbformat_minor": 2
}
