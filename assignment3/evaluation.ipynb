{
 "cells": [
  {
   "cell_type": "markdown",
   "metadata": {},
   "source": [
    "# CS 57300 Data Mining Assignment 3\n",
    "\n",
    "Shuang Wu (wu1716@purdue.edu)"
   ]
  },
  {
   "cell_type": "code",
   "execution_count": 2,
   "metadata": {},
   "outputs": [],
   "source": [
    "TEST_SET = 'testSet.csv'\n",
    "TRAINING_SET = 'trainingSet.csv'\n",
    "MODE_LR = 1\n",
    "MODE_SVM = 2"
   ]
  },
  {
   "cell_type": "markdown",
   "metadata": {},
   "source": [
    "## Preprocessing"
   ]
  },
  {
   "cell_type": "code",
   "execution_count": 3,
   "metadata": {},
   "outputs": [
    {
     "name": "stdout",
     "output_type": "stream",
     "text": [
      "Mapped vector for female in column gender: [1]\n",
      "Mapped vector for Black/African American in column race: [0, 1, 0, 0]\n",
      "Mapped vector for Other in column race_o: [0, 0, 0, 0]\n",
      "Mapped vector for economics in column field: [0, 0, 0, 0, 0, 0, 0, 0, 0, 0, 0, 0, 0, 0, 0, 0, 0, 0, 0, 0, 0, 0, 0, 0, 0, 0, 0, 0, 0, 0, 0, 0, 0, 0, 0, 0, 0, 0, 0, 0, 0, 0, 0, 0, 0, 0, 0, 0, 0, 0, 0, 0, 0, 0, 0, 0, 0, 1, 0, 0, 0, 0, 0, 0, 0, 0, 0, 0, 0, 0, 0, 0, 0, 0, 0, 0, 0, 0, 0, 0, 0, 0, 0, 0, 0, 0, 0, 0, 0, 0, 0, 0, 0, 0, 0, 0, 0, 0, 0, 0, 0, 0, 0, 0, 0, 0, 0, 0, 0, 0, 0, 0, 0, 0, 0, 0, 0, 0, 0, 0, 0, 0, 0, 0, 0, 0, 0, 0, 0, 0, 0, 0, 0, 0, 0, 0, 0, 0, 0, 0, 0, 0, 0, 0, 0, 0, 0, 0, 0, 0, 0, 0, 0, 0, 0, 0, 0, 0, 0, 0, 0, 0, 0, 0, 0, 0, 0, 0, 0, 0, 0, 0, 0, 0, 0, 0, 0, 0, 0, 0, 0, 0, 0, 0, 0, 0, 0, 0, 0, 0, 0, 0, 0, 0, 0, 0, 0, 0, 0, 0, 0, 0, 0]\n"
     ]
    }
   ],
   "source": [
    "import pandas as pd\n",
    "import warnings\n",
    "\n",
    "warnings.simplefilter(action='ignore', category=pd.errors.PerformanceWarning)\n",
    "\n",
    "%run -i preprocess-assg3.py"
   ]
  },
  {
   "cell_type": "markdown",
   "metadata": {},
   "source": [
    "## Implement Logistic Regression and Linear SVM"
   ]
  },
  {
   "cell_type": "code",
   "execution_count": 4,
   "metadata": {},
   "outputs": [
    {
     "name": "stdout",
     "output_type": "stream",
     "text": [
      "Training Accuracy LR: 0.66\n",
      "Testing Accuracy LR: 0.66\n"
     ]
    }
   ],
   "source": [
    "%run -i lr_svm.py {TRAINING_SET} {TEST_SET} {MODE_LR}"
   ]
  },
  {
   "cell_type": "markdown",
   "metadata": {},
   "source": [
    "If we set the learning rate (step size) to 0.001 and iterations to 3500. The accuracy for both sets can reach 0.78."
   ]
  },
  {
   "cell_type": "code",
   "execution_count": 5,
   "metadata": {},
   "outputs": [
    {
     "name": "stdout",
     "output_type": "stream",
     "text": [
      "Training Accuracy SVM: 0.56\n",
      "Testing Accuracy SVM: 0.55\n"
     ]
    }
   ],
   "source": [
    "%run -i lr_svm.py {TRAINING_SET} {TEST_SET} {MODE_SVM}"
   ]
  },
  {
   "cell_type": "markdown",
   "metadata": {},
   "source": [
    "If we set the learning rate (step size) to 0.001 and iterations to 2000. The accuracy for both sets can also reach 0.78."
   ]
  },
  {
   "cell_type": "markdown",
   "metadata": {},
   "source": [
    "## Learning Curves and Performance Comparison"
   ]
  },
  {
   "cell_type": "markdown",
   "metadata": {},
   "source": [
    "### Formulate Hypothesis\n",
    "\n",
    "According to the trait of the preprocessed data, it is likely that the data is not linear-separable. Thus, we believe the performance of NBC will be better than the performance of LR and linear-SVM."
   ]
  },
  {
   "cell_type": "code",
   "execution_count": 6,
   "metadata": {},
   "outputs": [
    {
     "name": "stdout",
     "output_type": "stream",
     "text": [
      "t_frac: 0.025\n",
      "[Naive Bayesian Classifier] Test Accuracy: 0.6484615384615384\n",
      "[Naive Bayesian Classifier] CV Average Accuracy: 0.6494230769230769\n",
      "[Naive Bayesian Classifier] CV Standard Error: 0.004734441976453226\n",
      "[Logistic Regression] Test Accuracy: 0.7253846153846154\n",
      "[Logistic Regression] CV Average Accuracy: 0.6688461538461539\n",
      "[Logistic Regression] CV Standard Error: 0.015801561603601907\n",
      "[SVM] Test Accuracy: 0.6123076923076923\n",
      "[SVM] CV Average Accuracy: 0.5569230769230769\n",
      "[SVM] CV Standard Error: 0.014819425920574135\n",
      "t_frac: 0.05\n",
      "[Naive Bayesian Classifier] Test Accuracy: 0.6615384615384615\n",
      "[Naive Bayesian Classifier] CV Average Accuracy: 0.6696153846153846\n",
      "[Naive Bayesian Classifier] CV Standard Error: 0.005957194447092801\n",
      "[Logistic Regression] Test Accuracy: 0.6415384615384615\n",
      "[Logistic Regression] CV Average Accuracy: 0.6590384615384615\n",
      "[Logistic Regression] CV Standard Error: 0.007896566926884695\n",
      "[SVM] Test Accuracy: 0.5776923076923077\n",
      "[SVM] CV Average Accuracy: 0.5538461538461539\n",
      "[SVM] CV Standard Error: 0.010444981241538667\n",
      "t_frac: 0.075\n",
      "[Naive Bayesian Classifier] Test Accuracy: 0.7084615384615385\n",
      "[Naive Bayesian Classifier] CV Average Accuracy: 0.6975\n",
      "[Naive Bayesian Classifier] CV Standard Error: 0.005839634522891537\n",
      "[Logistic Regression] Test Accuracy: 0.6530769230769231\n",
      "[Logistic Regression] CV Average Accuracy: 0.6688461538461539\n",
      "[Logistic Regression] CV Standard Error: 0.009702680651980647\n",
      "[SVM] Test Accuracy: 0.5846153846153846\n",
      "[SVM] CV Average Accuracy: 0.5573076923076923\n",
      "[SVM] CV Standard Error: 0.009100848520164599\n",
      "t_frac: 0.1\n",
      "[Naive Bayesian Classifier] Test Accuracy: 0.7184615384615385\n",
      "[Naive Bayesian Classifier] CV Average Accuracy: 0.7092307692307692\n",
      "[Naive Bayesian Classifier] CV Standard Error: 0.005780757715327088\n",
      "[Logistic Regression] Test Accuracy: 0.6630769230769231\n",
      "[Logistic Regression] CV Average Accuracy: 0.6755769230769231\n",
      "[Logistic Regression] CV Standard Error: 0.008235844948263312\n",
      "[SVM] Test Accuracy: 0.5676923076923077\n",
      "[SVM] CV Average Accuracy: 0.5613461538461537\n",
      "[SVM] CV Standard Error: 0.00636332176660315\n",
      "t_frac: 0.15\n",
      "[Naive Bayesian Classifier] Test Accuracy: 0.7392307692307692\n",
      "[Naive Bayesian Classifier] CV Average Accuracy: 0.7249999999999999\n",
      "[Naive Bayesian Classifier] CV Standard Error: 0.006153846153846151\n",
      "[Logistic Regression] Test Accuracy: 0.6646153846153846\n",
      "[Logistic Regression] CV Average Accuracy: 0.6782692307692308\n",
      "[Logistic Regression] CV Standard Error: 0.006595060461072898\n",
      "[SVM] Test Accuracy: 0.5969230769230769\n",
      "[SVM] CV Average Accuracy: 0.5786538461538461\n",
      "[SVM] CV Standard Error: 0.008179070200769306\n",
      "t_frac: 0.2\n",
      "[Naive Bayesian Classifier] Test Accuracy: 0.7523076923076923\n",
      "[Naive Bayesian Classifier] CV Average Accuracy: 0.7332692307692307\n",
      "[Naive Bayesian Classifier] CV Standard Error: 0.0066230389528081565\n",
      "[Logistic Regression] Test Accuracy: 0.6661538461538462\n",
      "[Logistic Regression] CV Average Accuracy: 0.6661538461538462\n",
      "[Logistic Regression] CV Standard Error: 0.00749852056414381\n",
      "[SVM] Test Accuracy: 0.5661538461538461\n",
      "[SVM] CV Average Accuracy: 0.5713461538461538\n",
      "[SVM] CV Standard Error: 0.004729752861427062\n"
     ]
    },
    {
     "data": {
      "image/png": "[encoded data removed]",
      "text/plain": [
       "<Figure size 432x288 with 1 Axes>"
      ]
     },
     "metadata": {
      "needs_background": "light"
     },
     "output_type": "display_data"
    }
   ],
   "source": [
    "%run -i cv.py"
   ]
  },
  {
   "cell_type": "markdown",
   "metadata": {},
   "source": [
    "### Test Hypothesis\n",
    "\n",
    "From the plot, we can see that NBC has the best performance and smallest standard errors with the given dataset and parameters. NBC stably increases its accuracy with more training data. LR increases slowly its accuracy with more training data. On the other hand, SVM does not perform stably with different sizes of training data. In sum, the performance of NBC is the best and the most stable among the three classifiers. Namely, it is possible that the data is not linear-separable, and thus the performance of LR and linear-SVM is worse than the one of NBC.\n",
    "\n",
    "The observed data does support our hypothesis."
   ]
  }
 ],
 "metadata": {
  "interpreter": {
   "hash": "4a6db0cacb50320509b839a43e2570a9eb3dc24b3b92640233801269bce59569"
  },
  "kernelspec": {
   "display_name": "Python 3.9.5 64-bit ('.venv': poetry)",
   "name": "python3"
  },
  "language_info": {
   "codemirror_mode": {
    "name": "ipython",
    "version": 3
   },
   "file_extension": ".py",
   "mimetype": "text/x-python",
   "name": "python",
   "nbconvert_exporter": "python",
   "pygments_lexer": "ipython3",
   "version": "3.9.5"
  },
  "orig_nbformat": 4
 },
 "nbformat": 4,
 "nbformat_minor": 2
}
