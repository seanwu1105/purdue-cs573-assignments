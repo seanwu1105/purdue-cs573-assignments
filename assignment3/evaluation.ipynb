{
 "cells": [
  {
   "cell_type": "code",
   "execution_count": 38,
   "metadata": {},
   "outputs": [
    {
     "data": {
      "text/plain": [
       "5463"
      ]
     },
     "execution_count": 38,
     "metadata": {},
     "output_type": "execute_result"
    }
   ],
   "source": [
    "import pandas as pd\n",
    "\n",
    "from libs.preprocessing import lowercase_on_cols, strip_quotes_on_cols\n",
    "\n",
    "raw_data_filename = 'dating-full.csv'\n",
    "nrows = 6500\n",
    "df = pd.read_csv(raw_data_filename, nrows=nrows)\n",
    "\n",
    "cols_need_striped = ('race', 'race_o', 'field')\n",
    "strip_quotes_on_cols(df, cols_need_striped)\n",
    "\n",
    "cols_need_lowercased = ('field',)\n",
    "lowercase_on_cols(df, cols_need_lowercased)"
   ]
  },
  {
   "cell_type": "code",
   "execution_count": 39,
   "metadata": {},
   "outputs": [
    {
     "data": {
      "text/plain": [
       "0       [1, 0, 0, 0]\n",
       "1       [1, 0, 0, 0]\n",
       "2       [1, 0, 0, 0]\n",
       "3       [1, 0, 0, 0]\n",
       "4       [1, 0, 0, 0]\n",
       "            ...     \n",
       "6495    [0, 0, 1, 0]\n",
       "6496    [0, 0, 1, 0]\n",
       "6497    [0, 0, 1, 0]\n",
       "6498    [0, 0, 1, 0]\n",
       "6499    [0, 0, 1, 0]\n",
       "Name: race, Length: 6500, dtype: object"
      ]
     },
     "execution_count": 39,
     "metadata": {},
     "output_type": "execute_result"
    }
   ],
   "source": [
    "from collections import defaultdict\n",
    "import numpy as np\n",
    "\n",
    "series_name = 'race'\n",
    "\n",
    "unique_values = sorted(df[series_name].unique())\n",
    "\n",
    "encodings = defaultdict(lambda: np.zeros(len(unique_values) - 1, dtype=int))\n",
    "\n",
    "for idx, val in enumerate(unique_values):\n",
    "    if idx == len(unique_values) - 1:\n",
    "        encodings[val] = encodings[val]\n",
    "    else:\n",
    "        encodings[val][idx] = 1\n",
    "\n",
    "df[series_name] = df[series_name].map(encodings)\n",
    "\n",
    "df['race']"
   ]
  },
  {
   "cell_type": "code",
   "execution_count": 21,
   "metadata": {},
   "outputs": [
    {
     "name": "stdout",
     "output_type": "stream",
     "text": [
      "0       Asian/Pacific Islander/Asian-American\n",
      "1       Asian/Pacific Islander/Asian-American\n",
      "2       Asian/Pacific Islander/Asian-American\n",
      "3       Asian/Pacific Islander/Asian-American\n",
      "4       Asian/Pacific Islander/Asian-American\n",
      "                        ...                  \n",
      "6495              European/Caucasian-American\n",
      "6496              European/Caucasian-American\n",
      "6497              European/Caucasian-American\n",
      "6498              European/Caucasian-American\n",
      "6499              European/Caucasian-American\n",
      "Name: race, Length: 6500, dtype: object\n",
      "0       female\n",
      "1       female\n",
      "2       female\n",
      "3       female\n",
      "4       female\n",
      "         ...  \n",
      "6495      male\n",
      "6496      male\n",
      "6497      male\n",
      "6498      male\n",
      "6499      male\n",
      "Name: gender, Length: 6500, dtype: object\n"
     ]
    },
    {
     "data": {
      "text/plain": [
       "race      None\n",
       "gender    None\n",
       "dtype: object"
      ]
     },
     "execution_count": 21,
     "metadata": {},
     "output_type": "execute_result"
    }
   ],
   "source": [
    "df[['race', 'gender']].apply(lambda x: print(x))"
   ]
  }
 ],
 "metadata": {
  "interpreter": {
   "hash": "4a6db0cacb50320509b839a43e2570a9eb3dc24b3b92640233801269bce59569"
  },
  "kernelspec": {
   "display_name": "Python 3.9.5 64-bit ('.venv': poetry)",
   "name": "python3"
  },
  "language_info": {
   "codemirror_mode": {
    "name": "ipython",
    "version": 3
   },
   "file_extension": ".py",
   "mimetype": "text/x-python",
   "name": "python",
   "nbconvert_exporter": "python",
   "pygments_lexer": "ipython3",
   "version": "3.9.5"
  },
  "orig_nbformat": 4
 },
 "nbformat": 4,
 "nbformat_minor": 2
}
